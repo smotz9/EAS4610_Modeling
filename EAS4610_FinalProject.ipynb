{
 "cells": [
  {
   "cell_type": "markdown",
   "metadata": {},
   "source": [
    "## |-----1D  Richards'  Equation-----|\n",
    "Samantha Motz -- Leah Hornsey\n",
    "\n",
    "December  6th, 2022"
   ]
  },
  {
   "cell_type": "code",
   "execution_count": 1,
   "metadata": {},
   "outputs": [],
   "source": [
    "import numpy as np\n",
    "import matplotlib.pyplot as plt\n",
    "from scipy.sparse import spdiags\n",
    "import math"
   ]
  },
  {
   "cell_type": "markdown",
   "metadata": {},
   "source": [
    "## INTRODUCTION\n",
    "In a world of changing climate, understanding the hydrologic cycle is crucial as water resources will continue to be stressed. However, quantifying fluxes within the hydrologic cycle has always been an extremely difficult task as they require us to define a space, make assumptions, and at times ignore parameters. Infiltration is one such flux that quantifies the amount of water from the ground surface entering into the soil and is especially important in providing insight into groundwater recharge, flood risk, and the risk of dissolved pollutants.\n",
    "\n",
    "There are many ways to study infiltration. In the field, hydrologists use infiltrometers and permeameters to take point measurements of the infiltration rate. Several models exist to model infiltration from the traditional, the Richards Equation presented here, which is based on the water balance equation to the modern Green-Ampt Model, which is based on a combination of the water balance equation and Darcy's Law. "
   ]
  },
  {
   "cell_type": "markdown",
   "metadata": {},
   "source": [
    "## EQUATIONS\n",
    "We are focused on modeling the 1D Richard's Equation (in addition one of its cruical outputs) which describes water flow in the unsaturated zone and is displayed below. \n",
    "\n",
    "∂θ/∂t = ∇ * K(h) * (∇h + ∇z) - S\n",
    "\n",
    "Where θ (m ** 3 / m ** 3) is volumetric water content defined by the retention curve: θ / θ_s = (h / h_e) ** -lam = 1. S (1 / s) is a sink term. h (m) is the pressure head, z (m) is the depth pointed positively downwards, t (s) is time, and K (m / s) is hydraulic conductivity defined by the following statements:\n",
    "\n",
    "if h < h_e then: K / K_s = (θ / θ_s) ** eta \n",
    "elseif h >= then: K / K_s = 1\n",
    "\n",
    "h_e (m) is the air entry pressure, θ_s (m ** 3 / m ** 3) is the volumetric water content at saturation, K_s (m / s) is the hydraulic conductivity at saturation, and lambda and eta are shape parameters.\n",
    "\n",
    "Overall, the Richards equation simplifies for easy one-dimenional infiltration becoming a deviation of the diffusion equation:\n",
    "\n",
    "∂θ/∂t = ∂/∂z * (K(θ) * (∂h/∂z + 1)) - S\n",
    "\n",
    "The important process we can model with the Richard's Equation is cumulative infiltration, which is how much water over time flows from the ground surface into the soil. In the broadest sense, infiltration is a balancing act between gravitational and capillary forces acting upon water, this is described in the following equation:\n",
    "\n",
    "I - K_0 * t = z_s * [θ_s - θ_0] + ((S2_orp(θ_0,θ_s)) / (2 * betta(θ_0,θ_s) * [K_s - K_0])) * ln[1 + betta(θ_0,θ_s) * ((K_s - K_0) / (q1 - K_s))]\n",
    "\n",
    "Where K_0 and θ_0 are initial conditions, and z_s is a reference level separating the saturated and unsaturated zones. S2_orp is sorptivity, or simply what describes capillary force in the soil column and has an equation of S2_orp = C_sbc * θ_s * abs(h_e) * K_s, where Csbc is defined as equaling 2 + (1 / (lam * eta - 1)) + (1 / (lam * eta - 1 + lam)). Betta is a parameter descibed based on the equation of betta = 2 * (1 - 2 * (C_betbc / C_sbc)), where C_beta = 1 + (1 / (2 * lam * eta - lam - 1)). \n",
    "\n",
    "All of this assumes some level of saturation, however if we assume the case of a saturated surface boundary condition and the soil column is dry initially, then cumulative infiltration simplifies significantly as we don't need to consider initial saturation: \n",
    "\n",
    "I = (S2_orp / (2 * betta * K_s)) * ln(1 + (betta /(q / K_s) - 1))\n",
    "\n",
    "Note: \n",
    "eta is assumed to be equal to lambda \n",
    "We assume the system is root-less and therefore S is zero. \n",
    "Boundary Conditions: \n",
    "dS[0] = 0\n",
    "z_s = 0\n",
    "q0 = 15 mm/hr"
   ]
  },
  {
   "cell_type": "code",
   "execution_count": 6,
   "metadata": {},
   "outputs": [],
   "source": [
    "#%%----- Parameters -----%%#\n",
    "#___Based on soil type: Sand___#\n",
    "h_e = -0.1 * 1000           # Air Entry Pressure (mm)\n",
    "K_s = 20 * 1000 * 3600      # Hydraulic Conductivity at Saturation (mm / hr)\n",
    "lam = 9                     # Shape Parameter\n",
    "eta = 9                     # Shape Parameter\n",
    "theta_s = 0.4 * 1e-9        # Volumetric Water Content at Saturation (mm ** 3 / mm ** 3) ~NOTE: if things seem weird this may not need to be scaled since the units technically cancel out, but uncertain since it is not nondimensional.\n",
    "theta_r = 0.1                 # Initial Volumetric Water Content (mm ** 3 / mm ** 3)\n",
    "b = 3                       # Hydrologic Parameter\n",
    "q0 = 15                     # Initial Flux (mm / hr)\n",
    "D = 0.1                     # Diffusivity\n",
    "phi = 0.38                  # Porosity\n",
    "\n",
    "#%%----- Functions  -----%%#\n",
    "dh = lambda theta: h_e * (((phi - theta_r) / (theta - theta_r)) ** (1 + b) - 1) ** (b / 1 + b) # Tension hydraulic head\n",
    "K_theta = lambda theta: K_s * ((theta - theta_r) / (phi - theta_r)) ** (2 * b + 3)   # Hydraulic Conductivity in relation to soil moisture\n",
    "\n",
    "C_sbc = 2 + (1 / (lam * eta - 1)) + (1 / (lam * eta - 1 + lam))          # Retention Curve\n",
    "S2_orp = C_sbc * theta_s * np.abs(h_e) * K_s    # Sorptivity\n",
    "C_betbc = 1 + (1 / (2 * lam * eta - lam - 1))   # Hydraulic Conductivity Curve\n",
    "betta = 2 * (1 - 2 * (C_betbc / C_sbc))         # Parameter"
   ]
  },
  {
   "cell_type": "markdown",
   "metadata": {},
   "source": [
    "## NUMERICAL METHODS\n",
    "Forward Euler... to start out with!"
   ]
  },
  {
   "cell_type": "code",
   "execution_count": 7,
   "metadata": {},
   "outputs": [
    {
     "ename": "ZeroDivisionError",
     "evalue": "float division by zero",
     "output_type": "error",
     "traceback": [
      "\u001b[0;31m---------------------------------------------------------------------------\u001b[0m",
      "\u001b[0;31mZeroDivisionError\u001b[0m                         Traceback (most recent call last)",
      "\u001b[1;32m/home/samanthamotz/Documents/EAS4610_Modeling/EAS4610_FinalProject.ipynb Cell 7\u001b[0m in \u001b[0;36m<cell line: 27>\u001b[0;34m()\u001b[0m\n\u001b[1;32m     <a href='vscode-notebook-cell:/home/samanthamotz/Documents/EAS4610_Modeling/EAS4610_FinalProject.ipynb#W6sZmlsZQ%3D%3D?line=25'>26</a>\u001b[0m \u001b[39m#%%---- Solve for Richards Equation ----%%#\u001b[39;00m\n\u001b[1;32m     <a href='vscode-notebook-cell:/home/samanthamotz/Documents/EAS4610_Modeling/EAS4610_FinalProject.ipynb#W6sZmlsZQ%3D%3D?line=26'>27</a>\u001b[0m \u001b[39mfor\u001b[39;00m i \u001b[39min\u001b[39;00m np\u001b[39m.\u001b[39marange(\u001b[39m0\u001b[39m,nt):\n\u001b[0;32m---> <a href='vscode-notebook-cell:/home/samanthamotz/Documents/EAS4610_Modeling/EAS4610_FinalProject.ipynb#W6sZmlsZQ%3D%3D?line=27'>28</a>\u001b[0m     dtheta[i] \u001b[39m=\u001b[39m K_theta(theta) \u001b[39m*\u001b[39m (dh(theta) \u001b[39m+\u001b[39m \u001b[39m1\u001b[39m)\n\u001b[1;32m     <a href='vscode-notebook-cell:/home/samanthamotz/Documents/EAS4610_Modeling/EAS4610_FinalProject.ipynb#W6sZmlsZQ%3D%3D?line=28'>29</a>\u001b[0m     theta \u001b[39m=\u001b[39m theta \u001b[39m+\u001b[39m dtheta\n\u001b[1;32m     <a href='vscode-notebook-cell:/home/samanthamotz/Documents/EAS4610_Modeling/EAS4610_FinalProject.ipynb#W6sZmlsZQ%3D%3D?line=29'>30</a>\u001b[0m \u001b[39m# Then use this value as a Neumann condition to solve for q...\u001b[39;00m\n\u001b[1;32m     <a href='vscode-notebook-cell:/home/samanthamotz/Documents/EAS4610_Modeling/EAS4610_FinalProject.ipynb#W6sZmlsZQ%3D%3D?line=30'>31</a>\u001b[0m \u001b[39m# Use q to solve for I!\u001b[39;00m\n",
      "\u001b[1;32m/home/samanthamotz/Documents/EAS4610_Modeling/EAS4610_FinalProject.ipynb Cell 7\u001b[0m in \u001b[0;36m<lambda>\u001b[0;34m(theta)\u001b[0m\n\u001b[1;32m     <a href='vscode-notebook-cell:/home/samanthamotz/Documents/EAS4610_Modeling/EAS4610_FinalProject.ipynb#W6sZmlsZQ%3D%3D?line=11'>12</a>\u001b[0m phi \u001b[39m=\u001b[39m \u001b[39m0.38\u001b[39m                  \u001b[39m# Porosity\u001b[39;00m\n\u001b[1;32m     <a href='vscode-notebook-cell:/home/samanthamotz/Documents/EAS4610_Modeling/EAS4610_FinalProject.ipynb#W6sZmlsZQ%3D%3D?line=13'>14</a>\u001b[0m \u001b[39m#%%----- Functions  -----%%#\u001b[39;00m\n\u001b[0;32m---> <a href='vscode-notebook-cell:/home/samanthamotz/Documents/EAS4610_Modeling/EAS4610_FinalProject.ipynb#W6sZmlsZQ%3D%3D?line=14'>15</a>\u001b[0m dh \u001b[39m=\u001b[39m \u001b[39mlambda\u001b[39;00m theta: h_e \u001b[39m*\u001b[39m (((phi \u001b[39m-\u001b[39;49m theta_r) \u001b[39m/\u001b[39;49m (theta \u001b[39m-\u001b[39;49m theta_r)) \u001b[39m*\u001b[39m\u001b[39m*\u001b[39m (\u001b[39m1\u001b[39m \u001b[39m+\u001b[39m b) \u001b[39m-\u001b[39m \u001b[39m1\u001b[39m) \u001b[39m*\u001b[39m\u001b[39m*\u001b[39m (b \u001b[39m/\u001b[39m \u001b[39m1\u001b[39m \u001b[39m+\u001b[39m b) \u001b[39m# Tension hydraulic head\u001b[39;00m\n\u001b[1;32m     <a href='vscode-notebook-cell:/home/samanthamotz/Documents/EAS4610_Modeling/EAS4610_FinalProject.ipynb#W6sZmlsZQ%3D%3D?line=15'>16</a>\u001b[0m K_theta \u001b[39m=\u001b[39m \u001b[39mlambda\u001b[39;00m theta: K_s \u001b[39m*\u001b[39m ((theta \u001b[39m-\u001b[39m theta_r) \u001b[39m/\u001b[39m (phi \u001b[39m-\u001b[39m theta_r)) \u001b[39m*\u001b[39m\u001b[39m*\u001b[39m (\u001b[39m2\u001b[39m \u001b[39m*\u001b[39m b \u001b[39m+\u001b[39m \u001b[39m3\u001b[39m)   \u001b[39m# Hydraulic Conductivity in relation to soil moisture\u001b[39;00m\n\u001b[1;32m     <a href='vscode-notebook-cell:/home/samanthamotz/Documents/EAS4610_Modeling/EAS4610_FinalProject.ipynb#W6sZmlsZQ%3D%3D?line=17'>18</a>\u001b[0m C_sbc \u001b[39m=\u001b[39m \u001b[39m2\u001b[39m \u001b[39m+\u001b[39m (\u001b[39m1\u001b[39m \u001b[39m/\u001b[39m (lam \u001b[39m*\u001b[39m eta \u001b[39m-\u001b[39m \u001b[39m1\u001b[39m)) \u001b[39m+\u001b[39m (\u001b[39m1\u001b[39m \u001b[39m/\u001b[39m (lam \u001b[39m*\u001b[39m eta \u001b[39m-\u001b[39m \u001b[39m1\u001b[39m \u001b[39m+\u001b[39m lam))          \u001b[39m# Retention Curve\u001b[39;00m\n",
      "\u001b[0;31mZeroDivisionError\u001b[0m: float division by zero"
     ]
    }
   ],
   "source": [
    "#%%----- Time steps -----%%#\n",
    "n = 100\n",
    "x = np.linspace(0,2 * eta,n)\n",
    "dx = x[1] - x[0]\n",
    "C_D = 0.1                                       # Diffusion Constant\n",
    "dt = (dx ** 2) * C_D / D\n",
    "\n",
    "tf = 10                                         # Final Time (hr)\n",
    "nt = round(tf / dt) + 1\n",
    "\n",
    "t = np.linspace(0,tf,nt + 1)                    # Vectorizing Time\n",
    "\n",
    "#%%----- Model Grid -----%%#\n",
    "data = np.array([C_D * np.ones(n), (1 - 2 * C_D) * np.ones(n), C_D * np.ones(n)])\n",
    "diags = np.array([-1, 0, 1])\n",
    "theta = spdiags(data, diags, n, n).toarray()\n",
    "\n",
    "#%%-- Pre-Allocations  --%%#\n",
    "q = np.zeros(n)\n",
    "q[0] = q0\n",
    "\n",
    "dtheta = np.zeros(n)\n",
    "dtheta[0] = theta_r\n",
    "theta = theta_r\n",
    "\n",
    "#%%---- Solve for Richards Equation ----%%#\n",
    "for i in np.arange(0,nt):\n",
    "    dtheta[i] = K_theta(theta) * (dh(theta) + 1)\n",
    "    theta = theta + dtheta\n",
    "# Then use this value as a Neumann condition to solve for q...\n",
    "# Use q to solve for I!\n",
    "\n",
    "infiltration = K_theta*((dh/dx)+1)\n",
    "dtheta_dt = np.gradient(infiltration, dx) #One-dimensional infiltration equation\n",
    "\n",
    "#%%----- Model Grid -----%%#\n",
    "data = np.array([C_D * np.ones(n), (1 - 2 * C_D) * np.ones(n), C_D * np.ones(n)])\n",
    "diags = np.array([-1, 0, 1])\n",
    "M = spdiags(data, diags, n, n).toarray()\n",
    "\n",
    "#%%-- Pre-Allocations  --%%#\n",
    "J1 = np.zeros((len(x), len(t)))\n",
    "J1[:,0] = np.exp(-0.0001*((x-300)**2))\n",
    "\n",
    "#%%---- Initial Soln ----%%#\n",
    "for k in range(0,len(time)-1):\n",
    "    J[:,k+1] = M@J[:,k]\n",
    "    \n",
    "##-----Forward  Euler-----##\n",
    "# Forward Euler for the diffusion equation\n",
    "\n",
    "\n",
    "##-----Centered Euler-----##\n",
    "\n",
    "\n",
    "\n",
    "#%%------ Matrices ------%%#"
   ]
  },
  {
   "cell_type": "markdown",
   "metadata": {},
   "source": [
    "## RESULTS"
   ]
  },
  {
   "cell_type": "markdown",
   "metadata": {},
   "source": [
    "## FIGURES"
   ]
  },
  {
   "cell_type": "code",
   "execution_count": null,
   "metadata": {},
   "outputs": [],
   "source": [
    "#%%------ Plotting ------%%#\n"
   ]
  },
  {
   "cell_type": "markdown",
   "metadata": {},
   "source": [
    "## VIDEO WALKTHROUGH\n"
   ]
  },
  {
   "cell_type": "markdown",
   "metadata": {},
   "source": [
    "## REFERENCES\n",
    "\n",
    "Bras, R.L. (1989). Hydrology - An Introduction to Hydrological Science, Addison-Wesley. \n",
    "\n",
    "N. Varado, I. Braud, P.J. Ross, R. Haverkamp. (2006). Assessment of an efficient numerical solution of the 1D Richards' equation on bare soil, Journal of Hydrology, 323 (1–4), 244-257, https://doi.org/10.1016/j.jhydrol.2005.07.052."
   ]
  }
 ],
 "metadata": {
  "kernelspec": {
   "display_name": "Python 3.10.6 64-bit",
   "language": "python",
   "name": "python3"
  },
  "language_info": {
   "codemirror_mode": {
    "name": "ipython",
    "version": 3
   },
   "file_extension": ".py",
   "mimetype": "text/x-python",
   "name": "python",
   "nbconvert_exporter": "python",
   "pygments_lexer": "ipython3",
   "version": "3.10.6"
  },
  "orig_nbformat": 4,
  "vscode": {
   "interpreter": {
    "hash": "916dbcbb3f70747c44a77c7bcd40155683ae19c65e1c03b4aa3499c5328201f1"
   }
  }
 },
 "nbformat": 4,
 "nbformat_minor": 2
}
