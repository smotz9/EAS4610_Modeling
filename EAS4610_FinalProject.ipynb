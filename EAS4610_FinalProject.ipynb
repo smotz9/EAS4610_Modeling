{
 "cells": [
  {
   "cell_type": "markdown",
   "metadata": {},
   "source": [
    "## |-----1D  Richards'  Equation for Soil Infiltration-----|\n",
    "Samantha Motz -- Leah Hornsey\n",
    "\n",
    "December  6th, 2022"
   ]
  },
  {
   "cell_type": "code",
   "execution_count": 6,
   "metadata": {},
   "outputs": [],
   "source": [
    "import numpy as np\n",
    "import matplotlib.pyplot as plt\n",
    "from scipy.sparse import spdiags\n",
    "import math"
   ]
  },
  {
   "cell_type": "markdown",
   "metadata": {},
   "source": [
    "## INTRODUCTION\n",
    "In a world of changing climate, understanding the hydrologic cycle is crucial as water resources will continue to be stressed. However, quantifying fluxes within the hydrologic cycle has always been an extremely difficult task as they require us to define a space, make assumptions, and at times ignore parameters. Infiltration is one such flux that quantifies the amount of water from the ground surface entering into the soil and is especially important in providing insight into groundwater recharge, flood risk, and the risk of dissolved pollutants.\n",
    "\n",
    "There are many ways to study infiltration. In the field, hydrologists use infiltrometers and permeameters to take point measurements of the infiltration rate. Several models exist to model infiltration from the traditional, the Richards Equation presented here, which is based on the water balance equation to the modern Green-Ampt Model, which is based on a combination of the water balance equation and Darcy's Law."
   ]
  },
  {
   "cell_type": "markdown",
   "metadata": {},
   "source": [
    "## EQUATIONS\n",
    "\n",
    "We are focused on modeling the 1D Richard's Equation (in addition one of its cruical outputs) which describes water flow in the unsaturated zone and is displayed below.\n",
    "\n",
    "∂θ/∂t = ∇ * K(h) * (∇h + ∇z) - S\n",
    "\n",
    "Where θ (m ** 3 / m ** 3) is volumetric water content defined by the retention curve: θ / θ_s = (h / h_e) ** -lam = 1. S (1 / s) is a sink term. h (m) is the pressure head, z (m) is the depth pointed positively downwards, t (s) is time, and K (m / s) is hydraulic conductivity defined by the following statements:\n",
    "\n",
    "if h < h_e then: K / K_s = (θ / θ_s) ** eta elseif h >= then: K / K_s = 1\n",
    "\n",
    "h_e (m) is the air entry pressure, θ_s (m ** 3 / m ** 3) is the volumetric water content at saturation, K_s (m / s) is the hydraulic conductivity at saturation, and lambda and eta are shape parameters.\n",
    "\n",
    "Overall, the Richards equation simplifies for easy one-dimenional infiltration becoming a deviation of the diffusion equation:\n",
    "\n",
    "∂θ/∂t = ∂/∂z * (K(θ) * (∂h/∂z + 1)) - S\n",
    "\n",
    "The important process we can model with the Richard's Equation is cumulative infiltration, which is how much water over time flows from the ground surface into the soil. In the broadest sense, infiltration is a balancing act between gravitational and capillary forces acting upon water, this is described in the following equation:\n",
    "\n",
    "I - K_0 * t = z_s * [θ_s - θ_0] + ((S2_orp(θ_0,θ_s)) / (2 * betta(θ_0,θ_s) * [K_s - K_0])) * ln[1 + betta(θ_0,θ_s) * ((K_s - K_0) / (q1 - K_s))]\n",
    "\n",
    "Where K_0 and θ_0 are initial conditions, and z_s is a reference level separating the saturated and unsaturated zones. S2_orp is sorptivity, or simply what describes capillary force in the soil column and has an equation of S2_orp = C_sbc * θ_s * abs(h_e) * K_s, where Csbc is defined as equaling 2 + (1 / (lam * eta - 1)) + (1 / (lam * eta - 1 + lam)). Betta is a parameter descibed based on the equation of betta = 2 * (1 - 2 * (C_betbc / C_sbc)), where C_beta = 1 + (1 / (2 * lam * eta - lam - 1)).\n",
    "\n",
    "All of this assumes some level of saturation, however if we assume the case of a saturated surface boundary condition and the soil column is dry initially, then cumulative infiltration simplifies significantly as we don't need to consider initial saturation:\n",
    "\n",
    "I = (S2_orp / (2 * betta * K_s)) * ln(1 + (betta /(q / K_s) - 1))\n",
    "\n",
    "Note: eta is assumed to be equal to lambda We assume the system is root-less and therefore S is zero. Boundary Conditions: dS[0] = 0 z_s = 0 q0 = 15 mm/hr"
   ]
  },
  {
   "cell_type": "code",
   "execution_count": 7,
   "metadata": {},
   "outputs": [],
   "source": [
    "#%%----- Parameters -----%%#\n",
    "#___Based on soil type: Sand___#\n",
    "h_e = -0.1 * 1000           # Air Entry Pressure (mm)\n",
    "K_s = 20 * 1000 * 3600      # Hydraulic Conductivity at Saturation (mm / hr)\n",
    "lam = 9                     # Shape Parameter\n",
    "eta = 9                     # Shape Parameter\n",
    "theta_s = 0.4 / 1000000000  # Volumetric Water Content at Saturation (mm ** 3 / mm ** 3) ~NOTE: if things seem weird this may not need to be scaled since the units technically cancel out, but uncertain since it is not nondimensional.\n",
    "theta_r = 0.2 / 1000000000  # Initial Volumetric Water Content (mm ** 3 / mm ** 3)\n",
    "b = 3                       # Hydrologic Parameter\n",
    "q0 = 15                     # Initial Flux (mm / hr)\n",
    "D = 0.1                     # Diffusivity\n",
    "phi = 0.38                  # Porosity\n",
    "\n",
    "#%%----- Functions  -----%%#\n",
    "theta = lambda h,dt: theta_s * (h / h_e) ** -lam * dt  # theta\n",
    "h = lambda theta: h_e * (((phi - theta_r) / (theta - theta_r)) ** (1 + b) - 1) ** (b / 1 + b) # Tension hydraulic head\n",
    "#K_theta = K_s * ((h(theta_s) - theta_r) / (phi - theta_r)) ** (2 * b + 3)   # Hydraulic Conductivity in relation to soil moisture\n",
    "# assumes hydraulic conductivity is constant\n",
    "C_sbc = 2 + (1 / (lam * eta - 1)) + (1 / (lam * eta - 1 + lam))          # Retention Curve\n",
    "S2_orp = C_sbc * theta_s * np.abs(h_e) * K_s    # Sorptivity\n",
    "C_betbc = 1 + (1 / (2 * lam * eta - lam - 1))   # Hydraulic Conductivity Curve\n",
    "betta = 2 * (1 - 2 * (C_betbc / C_sbc))         # Parameter"
   ]
  },
  {
   "cell_type": "markdown",
   "metadata": {},
   "source": [
    "## NUMERICAL METHODS"
   ]
  },
  {
   "cell_type": "markdown",
   "metadata": {},
   "source": [
    "We are simulating infiltration through soil using the Forward Euler on a diffusion equation with a Neumann boundary condition. Forward Euler is used to model flux (q), which is plugged into the 1-D Richards equation for infiltration. Forward Euler has chosen because we are treating soil infiltration as a diffusion process."
   ]
  },
  {
   "cell_type": "code",
   "execution_count": 11,
   "metadata": {},
   "outputs": [
    {
     "name": "stderr",
     "output_type": "stream",
     "text": [
      "/tmp/ipykernel_5510/2559092015.py:58: RuntimeWarning: divide by zero encountered in true_divide\n",
      "  I[:, k + 1] = (S2_orp / (2 * betta * K_s)) * np.log(1 + (betta /(q[:,k] / K_s) - 1))\n",
      "/tmp/ipykernel_5510/2559092015.py:58: RuntimeWarning: divide by zero encountered in log\n",
      "  I[:, k + 1] = (S2_orp / (2 * betta * K_s)) * np.log(1 + (betta /(q[:,k] / K_s) - 1))\n"
     ]
    }
   ],
   "source": [
    "#%%----- Time steps -----%%#\n",
    "n = 100\n",
    "x = np.linspace(0,eta,n)\n",
    "dx = x[1] - x[0]\n",
    "C_D = 0.1                                       # Diffusion Constant\n",
    "dt = (dx ** 2) * C_D / D\n",
    "\n",
    "tf = 10                                         # Final Time (hr)\n",
    "nt = round(tf / dt)\n",
    "\n",
    "t = np.linspace(0,tf,nt + 1)                    # Vectorizing Time\n",
    "\n",
    "#%%----- Model Grid -----%%#\n",
    "data = np.array([np.ones(n), np.ones(n), np.ones(n)]) ##### ***** DOES THIS NEED C_D? ***** #####\n",
    "diags = np.array([-1, 0, 1])\n",
    "dtheta = spdiags(data, diags, n+1, n+1).toarray()\n",
    "\n",
    "#%%-- Pre-Allocations  --%%#\n",
    "data = np.array([C_D * np.ones(n), (1 - 2 * C_D) * np.ones(n), C_D * np.ones(n)])\n",
    "diags = np.array([-1, 0, 1])\n",
    "q = spdiags(data, diags, n+1, n+1).toarray()\n",
    "q[0,0] = q0\n",
    "q[0,1] = q0\n",
    "q[-1,-1] = 0\n",
    "q[-1,-2] = 0\n",
    "\n",
    "data = np.array([np.ones(n), np.ones(n), np.ones(n)])\n",
    "diags = np.array([-1, 0, 1])\n",
    "I = spdiags(data, diags, n+1, n+1).toarray()\n",
    "\n",
    "dh = np.zeros(n+1)\n",
    "dh[0] = h_e\n",
    "\n",
    "the = np.zeros(n+1)\n",
    "the[0] = theta_r\n",
    "\n",
    "#dtheta = np.zeros(n)\n",
    "dtheta[0] = theta_r\n",
    "\n",
    "#%%---- Solve for Richards Equation ----%%#\n",
    "for i in np.arange(0,n):\n",
    "    if i == 0:\n",
    "        dh[i + 1] = dh[i] + h(theta_s)\n",
    "        the[i + 1] = theta(dh[i],t[i])\n",
    "        dtheta[i,:] = K_s * (dh[i] + 1)\n",
    "    else:\n",
    "        dh[i + 1] = dh[i] + h(the[i])\n",
    "        the[i + 1] = theta(dh[i],t[i])\n",
    "        dtheta[i + 1,:] = K_s * (dh[i] + 1)\n",
    "\n",
    "J = lambda i, k: K_s * (h(dtheta[i,k]))   # theta\n",
    "I[:,0] = (S2_orp / (2 * betta * K_s)) * np.log(1 + (betta /(q0 / K_s) - 1))\n",
    "\n",
    "# Then use this value as a Neumann condition to solve for q...\n",
    "for k in np.arange(0,n):\n",
    "    #q[:, k+1] = q[:,k] + C_D*(K_s * (dh(dtheta[:,k])))\n",
    "    q[:, k+1] = q[i,k] + C_D*(((J(2,k) - 2 * J(1,k))/dx)-(J(1,k)*(q0/D))) #Neumann condition\n",
    "    I[:, k + 1] = (S2_orp / (2 * betta * K_s)) * np.log(1 + (betta /(q[:,k] / K_s) - 1))\n",
    "    \n",
    "#HILLSLOPE DEMO- FORWARD EULER\n",
    "\n",
    "#dtheta_dt = np.gradient(dtheta, dx) #One-dimensional infiltration equation\n",
    "\n",
    "#%%----- Model Grid -----%%#\n",
    "#data = np.array([C_D * np.ones(n), (1 - 2 * C_D) * np.ones(n), C_D * np.ones(n)])\n",
    "#diags = np.array([-1, 0, 1])\n",
    "#M = spdiags(data, diags, n, n).toarray()\n",
    "\n",
    "#%%-- Pre-Allocations  --%%#\n",
    "#J = np.zeros((len(x), len(t)))\n",
    "#J[:,0] = \n",
    "\n",
    "#%%---- Initial Soln ----%%#\n",
    "#for k in range(0,len(time)-1):\n",
    "#    J[:,k+1] = M@J[:,k]\n",
    "    \n",
    "##-----Forward  Euler-----##\n",
    "# Forward Euler for the diffusion equation\n",
    "\n",
    "\n",
    "##-----Centered Euler-----##\n",
    "\n",
    "\n",
    "\n",
    "#%%------ Matrices ------%%#"
   ]
  },
  {
   "cell_type": "markdown",
   "metadata": {},
   "source": [
    "## RESULTS"
   ]
  },
  {
   "cell_type": "markdown",
   "metadata": {},
   "source": [
    "## FIGURES"
   ]
  },
  {
   "cell_type": "code",
   "execution_count": 14,
   "metadata": {},
   "outputs": [
    {
     "ename": "ValueError",
     "evalue": "x and y must have same first dimension, but have shapes (1212,) and (101, 101)",
     "output_type": "error",
     "traceback": [
      "\u001b[0;31m---------------------------------------------------------------------------\u001b[0m",
      "\u001b[0;31mValueError\u001b[0m                                Traceback (most recent call last)",
      "\u001b[1;32m/home/samanthamotz/Documents/EAS4610_Modeling/EAS4610_FinalProject.ipynb Cell 11\u001b[0m in \u001b[0;36m<cell line: 3>\u001b[0;34m()\u001b[0m\n\u001b[1;32m      <a href='vscode-notebook-cell:/home/samanthamotz/Documents/EAS4610_Modeling/EAS4610_FinalProject.ipynb#X12sZmlsZQ%3D%3D?line=0'>1</a>\u001b[0m \u001b[39m#%%------ Plotting ------%%#\u001b[39;00m\n\u001b[1;32m      <a href='vscode-notebook-cell:/home/samanthamotz/Documents/EAS4610_Modeling/EAS4610_FinalProject.ipynb#X12sZmlsZQ%3D%3D?line=1'>2</a>\u001b[0m figure \u001b[39m=\u001b[39m plt\u001b[39m.\u001b[39mfigure()\n\u001b[0;32m----> <a href='vscode-notebook-cell:/home/samanthamotz/Documents/EAS4610_Modeling/EAS4610_FinalProject.ipynb#X12sZmlsZQ%3D%3D?line=2'>3</a>\u001b[0m plt\u001b[39m.\u001b[39;49mplot(t,I,\u001b[39m'\u001b[39;49m\u001b[39mk-\u001b[39;49m\u001b[39m'\u001b[39;49m)\n\u001b[1;32m      <a href='vscode-notebook-cell:/home/samanthamotz/Documents/EAS4610_Modeling/EAS4610_FinalProject.ipynb#X12sZmlsZQ%3D%3D?line=3'>4</a>\u001b[0m plt\u001b[39m.\u001b[39mxlabel(\u001b[39m'\u001b[39m\u001b[39mTime (hr)\u001b[39m\u001b[39m'\u001b[39m)\n\u001b[1;32m      <a href='vscode-notebook-cell:/home/samanthamotz/Documents/EAS4610_Modeling/EAS4610_FinalProject.ipynb#X12sZmlsZQ%3D%3D?line=4'>5</a>\u001b[0m olt\u001b[39m.\u001b[39mylabel(\u001b[39m'\u001b[39m\u001b[39mInfiltration ()\u001b[39m\u001b[39m'\u001b[39m)\n",
      "File \u001b[0;32m/usr/lib/python3/dist-packages/matplotlib/pyplot.py:2757\u001b[0m, in \u001b[0;36mplot\u001b[0;34m(scalex, scaley, data, *args, **kwargs)\u001b[0m\n\u001b[1;32m   2755\u001b[0m \u001b[39m@_copy_docstring_and_deprecators\u001b[39m(Axes\u001b[39m.\u001b[39mplot)\n\u001b[1;32m   2756\u001b[0m \u001b[39mdef\u001b[39;00m \u001b[39mplot\u001b[39m(\u001b[39m*\u001b[39margs, scalex\u001b[39m=\u001b[39m\u001b[39mTrue\u001b[39;00m, scaley\u001b[39m=\u001b[39m\u001b[39mTrue\u001b[39;00m, data\u001b[39m=\u001b[39m\u001b[39mNone\u001b[39;00m, \u001b[39m*\u001b[39m\u001b[39m*\u001b[39mkwargs):\n\u001b[0;32m-> 2757\u001b[0m     \u001b[39mreturn\u001b[39;00m gca()\u001b[39m.\u001b[39;49mplot(\n\u001b[1;32m   2758\u001b[0m         \u001b[39m*\u001b[39;49margs, scalex\u001b[39m=\u001b[39;49mscalex, scaley\u001b[39m=\u001b[39;49mscaley,\n\u001b[1;32m   2759\u001b[0m         \u001b[39m*\u001b[39;49m\u001b[39m*\u001b[39;49m({\u001b[39m\"\u001b[39;49m\u001b[39mdata\u001b[39;49m\u001b[39m\"\u001b[39;49m: data} \u001b[39mif\u001b[39;49;00m data \u001b[39mis\u001b[39;49;00m \u001b[39mnot\u001b[39;49;00m \u001b[39mNone\u001b[39;49;00m \u001b[39melse\u001b[39;49;00m {}), \u001b[39m*\u001b[39;49m\u001b[39m*\u001b[39;49mkwargs)\n",
      "File \u001b[0;32m/usr/lib/python3/dist-packages/matplotlib/axes/_axes.py:1632\u001b[0m, in \u001b[0;36mAxes.plot\u001b[0;34m(self, scalex, scaley, data, *args, **kwargs)\u001b[0m\n\u001b[1;32m   1390\u001b[0m \u001b[39m\"\"\"\u001b[39;00m\n\u001b[1;32m   1391\u001b[0m \u001b[39mPlot y versus x as lines and/or markers.\u001b[39;00m\n\u001b[1;32m   1392\u001b[0m \n\u001b[0;32m   (...)\u001b[0m\n\u001b[1;32m   1629\u001b[0m \u001b[39m(``'green'``) or hex strings (``'#008000'``).\u001b[39;00m\n\u001b[1;32m   1630\u001b[0m \u001b[39m\"\"\"\u001b[39;00m\n\u001b[1;32m   1631\u001b[0m kwargs \u001b[39m=\u001b[39m cbook\u001b[39m.\u001b[39mnormalize_kwargs(kwargs, mlines\u001b[39m.\u001b[39mLine2D)\n\u001b[0;32m-> 1632\u001b[0m lines \u001b[39m=\u001b[39m [\u001b[39m*\u001b[39m\u001b[39mself\u001b[39m\u001b[39m.\u001b[39m_get_lines(\u001b[39m*\u001b[39margs, data\u001b[39m=\u001b[39mdata, \u001b[39m*\u001b[39m\u001b[39m*\u001b[39mkwargs)]\n\u001b[1;32m   1633\u001b[0m \u001b[39mfor\u001b[39;00m line \u001b[39min\u001b[39;00m lines:\n\u001b[1;32m   1634\u001b[0m     \u001b[39mself\u001b[39m\u001b[39m.\u001b[39madd_line(line)\n",
      "File \u001b[0;32m/usr/lib/python3/dist-packages/matplotlib/axes/_base.py:312\u001b[0m, in \u001b[0;36m_process_plot_var_args.__call__\u001b[0;34m(self, data, *args, **kwargs)\u001b[0m\n\u001b[1;32m    310\u001b[0m     this \u001b[39m+\u001b[39m\u001b[39m=\u001b[39m args[\u001b[39m0\u001b[39m],\n\u001b[1;32m    311\u001b[0m     args \u001b[39m=\u001b[39m args[\u001b[39m1\u001b[39m:]\n\u001b[0;32m--> 312\u001b[0m \u001b[39myield from\u001b[39;00m \u001b[39mself\u001b[39;49m\u001b[39m.\u001b[39;49m_plot_args(this, kwargs)\n",
      "File \u001b[0;32m/usr/lib/python3/dist-packages/matplotlib/axes/_base.py:498\u001b[0m, in \u001b[0;36m_process_plot_var_args._plot_args\u001b[0;34m(self, tup, kwargs, return_kwargs)\u001b[0m\n\u001b[1;32m    495\u001b[0m     \u001b[39mself\u001b[39m\u001b[39m.\u001b[39maxes\u001b[39m.\u001b[39myaxis\u001b[39m.\u001b[39mupdate_units(y)\n\u001b[1;32m    497\u001b[0m \u001b[39mif\u001b[39;00m x\u001b[39m.\u001b[39mshape[\u001b[39m0\u001b[39m] \u001b[39m!=\u001b[39m y\u001b[39m.\u001b[39mshape[\u001b[39m0\u001b[39m]:\n\u001b[0;32m--> 498\u001b[0m     \u001b[39mraise\u001b[39;00m \u001b[39mValueError\u001b[39;00m(\u001b[39mf\u001b[39m\u001b[39m\"\u001b[39m\u001b[39mx and y must have same first dimension, but \u001b[39m\u001b[39m\"\u001b[39m\n\u001b[1;32m    499\u001b[0m                      \u001b[39mf\u001b[39m\u001b[39m\"\u001b[39m\u001b[39mhave shapes \u001b[39m\u001b[39m{\u001b[39;00mx\u001b[39m.\u001b[39mshape\u001b[39m}\u001b[39;00m\u001b[39m and \u001b[39m\u001b[39m{\u001b[39;00my\u001b[39m.\u001b[39mshape\u001b[39m}\u001b[39;00m\u001b[39m\"\u001b[39m)\n\u001b[1;32m    500\u001b[0m \u001b[39mif\u001b[39;00m x\u001b[39m.\u001b[39mndim \u001b[39m>\u001b[39m \u001b[39m2\u001b[39m \u001b[39mor\u001b[39;00m y\u001b[39m.\u001b[39mndim \u001b[39m>\u001b[39m \u001b[39m2\u001b[39m:\n\u001b[1;32m    501\u001b[0m     \u001b[39mraise\u001b[39;00m \u001b[39mValueError\u001b[39;00m(\u001b[39mf\u001b[39m\u001b[39m\"\u001b[39m\u001b[39mx and y can be no greater than 2D, but have \u001b[39m\u001b[39m\"\u001b[39m\n\u001b[1;32m    502\u001b[0m                      \u001b[39mf\u001b[39m\u001b[39m\"\u001b[39m\u001b[39mshapes \u001b[39m\u001b[39m{\u001b[39;00mx\u001b[39m.\u001b[39mshape\u001b[39m}\u001b[39;00m\u001b[39m and \u001b[39m\u001b[39m{\u001b[39;00my\u001b[39m.\u001b[39mshape\u001b[39m}\u001b[39;00m\u001b[39m\"\u001b[39m)\n",
      "\u001b[0;31mValueError\u001b[0m: x and y must have same first dimension, but have shapes (1212,) and (101, 101)"
     ]
    },
    {
     "data": {
      "image/png": "[encoded data removed]",
      "text/plain": [
       "<Figure size 432x288 with 1 Axes>"
      ]
     },
     "metadata": {
      "needs_background": "light"
     },
     "output_type": "display_data"
    }
   ],
   "source": [
    "#%%------ Plotting ------%%#\n",
    "figure = plt.figure()\n",
    "plt.plot(t,I,'k-')\n",
    "plt.xlabel('Time (hr)')\n",
    "olt.ylabel('Infiltration ()')"
   ]
  },
  {
   "cell_type": "markdown",
   "metadata": {},
   "source": [
    "## VIDEO WALKTHROUGH\n"
   ]
  },
  {
   "cell_type": "markdown",
   "metadata": {},
   "source": [
    "## REFERENCES\n",
    "\n",
    "Bras, R.L. (1989). Hydrology - An Introduction to Hydrological Science, Addison-Wesley. \n",
    "\n",
    "N. Varado, I. Braud, P.J. Ross, R. Haverkamp. (2006). Assessment of an efficient numerical solution of the 1D Richards' equation on bare soil, Journal of Hydrology, 323 (1–4), 244-257, https://doi.org/10.1016/j.jhydrol.2005.07.052."
   ]
  }
 ],
 "metadata": {
  "kernelspec": {
   "display_name": "Python 3",
   "language": "python",
   "name": "python3"
  },
  "language_info": {
   "codemirror_mode": {
    "name": "ipython",
    "version": 3
   },
   "file_extension": ".py",
   "mimetype": "text/x-python",
   "name": "python",
   "nbconvert_exporter": "python",
   "pygments_lexer": "ipython3",
   "version": "3.10.6"
  },
  "vscode": {
   "interpreter": {
    "hash": "916dbcbb3f70747c44a77c7bcd40155683ae19c65e1c03b4aa3499c5328201f1"
   }
  }
 },
 "nbformat": 4,
 "nbformat_minor": 2
}
