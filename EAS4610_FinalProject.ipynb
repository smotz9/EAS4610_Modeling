{
 "cells": [
  {
   "cell_type": "markdown",
   "metadata": {},
   "source": [
    "## |-----1D  Richards'  Equation for Soil Infiltration-----|\n",
    "Samantha Motz -- Leah Hornsey\n",
    "\n",
    "December  6th, 2022"
   ]
  },
  {
   "cell_type": "code",
   "execution_count": 26,
   "metadata": {},
   "outputs": [],
   "source": [
    "import numpy as np\n",
    "import matplotlib.pyplot as plt\n",
    "from scipy.sparse import spdiags\n",
    "import math"
   ]
  },
  {
   "cell_type": "markdown",
   "metadata": {},
   "source": [
    "## INTRODUCTION\n",
    "In a world of changing climate, understanding the hydrologic cycle is crucial as water resources will continue to be stressed. However, quantifying fluxes within the hydrologic cycle has always been an extremely difficult task as they require us to define a space, make assumptions, and at times ignore parameters. Infiltration is one such flux that quantifies the amount of water from the ground surface entering into the soil and is especially important in providing insight into groundwater recharge, flood risk, and the risk of dissolved pollutants.\n",
    "\n",
    "There are many ways to study infiltration. In the field, hydrologists use infiltrometers and permeameters to take point measurements of the infiltration rate. Several models exist to model infiltration from the traditional, the Richards Equation presented here, which is based on the water balance equation to the modern Green-Ampt Model, which is based on a combination of the water balance equation and Darcy's Law."
   ]
  },
  {
   "cell_type": "markdown",
   "metadata": {},
   "source": [
    "## EQUATIONS\n",
    "\n",
    "We are focused on modeling the 1D Richard's Equation (in addition one of its cruical outputs) which describes water flow in the unsaturated zone and is displayed below.\n",
    "\n",
    "∂θ/∂t = ∇ * K(h) * (∇h + ∇z) - S\n",
    "\n",
    "Where θ (m ** 3 / m ** 3) is volumetric water content defined by the retention curve: θ / θ_s = (h / h_e) ** -lam = 1. S (1 / s) is a sink term. h (m) is the pressure head, z (m) is the depth pointed positively downwards, t (s) is time, and K (m / s) is hydraulic conductivity defined by the following statements:\n",
    "\n",
    "if h < h_e then: K / K_s = (θ / θ_s) ** eta elseif h >= then: K / K_s = 1\n",
    "\n",
    "h_e (m) is the air entry pressure, θ_s (m ** 3 / m ** 3) is the volumetric water content at saturation, K_s (m / s) is the hydraulic conductivity at saturation, and lambda and eta are shape parameters.\n",
    "\n",
    "Overall, the Richards equation simplifies for easy one-dimenional infiltration becoming a deviation of the diffusion equation:\n",
    "\n",
    "∂θ/∂t = ∂/∂z * (K(θ) * (∂h/∂z + 1)) - S\n",
    "\n",
    "The important process we can model with the Richard's Equation is cumulative infiltration, which is how much water over time flows from the ground surface into the soil. In the broadest sense, infiltration is a balancing act between gravitational and capillary forces acting upon water, this is described in the following equation:\n",
    "\n",
    "I - K_0 * t = z_s * [θ_s - θ_0] + ((S2_orp(θ_0,θ_s)) / (2 * betta(θ_0,θ_s) * [K_s - K_0])) * ln[1 + betta(θ_0,θ_s) * ((K_s - K_0) / (q1 - K_s))]\n",
    "\n",
    "Where K_0 and θ_0 are initial conditions, and z_s is a reference level separating the saturated and unsaturated zones. S2_orp is sorptivity, or simply what describes capillary force in the soil column and has an equation of S2_orp = C_sbc * θ_s * abs(h_e) * K_s, where Csbc is defined as equaling 2 + (1 / (lam * eta - 1)) + (1 / (lam * eta - 1 + lam)). Betta is a parameter descibed based on the equation of betta = 2 * (1 - 2 * (C_betbc / C_sbc)), where C_beta = 1 + (1 / (2 * lam * eta - lam - 1)).\n",
    "\n",
    "All of this assumes some level of saturation, however if we assume the case of a saturated surface boundary condition and the soil column is dry initially, then cumulative infiltration simplifies significantly as we don't need to consider initial saturation:\n",
    "\n",
    "I = (S2_orp / (2 * betta * K_s)) * ln(1 + (betta /(q / K_s) - 1))\n",
    "\n",
    "Assumptions: eta is assumed to be equal to lambda. We assume the system is root-less and therefore S is zero. Boundary Conditions: dS[0] = 0, z_s = 0, q0 = 15 mm/hr (flux at the ground surface). And Hydraulic conductivity is constant throughout the soil column (K_s).\n"
   ]
  },
  {
   "cell_type": "code",
   "execution_count": 27,
   "metadata": {},
   "outputs": [],
   "source": [
    "\n",
    "#%%----- Parameters -----%%#\n",
    "#___Based on soil type: Sand___#\n",
    "h_e = -0.1 * 1000           # Air Entry Pressure (mm)\n",
    "K_s = 20 * 1000 * 3600      # Hydraulic Conductivity at Saturation (mm / hr)\n",
    "lam = 9                     # Shape Parameter\n",
    "eta = 9                     # Shape Parameter\n",
    "theta_s = 0.4 / 1000000000  # Volumetric Water Content at Saturation (mm ** 3 / mm ** 3) ~NOTE: if things seem weird this may not need to be scaled since the units technically cancel out, but uncertain since it is not nondimensional.\n",
    "theta_r = 0.2 / 1000000000  # Initial Volumetric Water Content (mm ** 3 / mm ** 3) --> Source: NRCCA\n",
    "b = 3                       # Hydrologic Parameter\n",
    "q0 = 15                     # Initial Flux (mm / hr)\n",
    "D = 0.1                     # Diffusivity\n",
    "phi = 0.43 / 1000000000     # Porosity (mm ** 3 / mm ** 3) --> Source: Minnesota Stormwater Manual\n",
    "\n",
    "#%%----- Functions  -----%%#\n",
    "theta = lambda h,dt: theta_s * (h / h_e) ** -lam * dt  # theta\n",
    "h = lambda theta: h_e * (((phi - theta_r) / (theta - theta_r)) ** (1 + b) - 1) ** (b / 1 + b) # Tension hydraulic head\n",
    "#K_theta = K_s * ((h(theta_s) - theta_r) / (phi - theta_r)) ** (2 * b + 3)   # Hydraulic Conductivity in relation to soil moisture\n",
    "# assumes hydraulic conductivity is constant\n",
    "C_sbc = 2 + (1 / (lam * eta - 1)) + (1 / (lam * eta - 1 + lam))     # Retention Curve\n",
    "S2_orp = C_sbc * theta_s * np.abs(h_e) * K_s    # Sorptivity\n",
    "C_betbc = 1 + (1 / (2 * lam * eta - lam - 1))   # Hydraulic Conductivity Curve\n",
    "betta = 2 * (1 - 2 * (C_betbc / C_sbc))         # Parameter\n"
   ]
  },
  {
   "cell_type": "markdown",
   "metadata": {},
   "source": [
    "## NUMERICAL METHODS"
   ]
  },
  {
   "cell_type": "markdown",
   "metadata": {},
   "source": [
    "We are simulating infiltration through soil using the Forward Euler on a diffusion equation with a Neumann boundary condition. Forward Euler is used to model flux (q), which is plugged into the dervied infiltration from the 1-D Richards equation. Forward Euler has chosen because we are treating soil infiltration as a diffusion process and have boundary conditions in which to constain the initial flux at the surface (15 mm/hr)."
   ]
  },
  {
   "cell_type": "code",
   "execution_count": 28,
   "metadata": {},
   "outputs": [
    {
     "name": "stderr",
     "output_type": "stream",
     "text": [
      "<ipython-input-28-2ebd4d8d7ae8>:56: RuntimeWarning: divide by zero encountered in true_divide\n",
      "  I[:, k + 1] = (S2_orp / (2 * betta * K_s)) * np.log(1 + (betta /(q[:,k] / K_s) - 1))    # Solving for Infiltration\n"
     ]
    }
   ],
   "source": [
    "#%%----- Time steps -----%%#\n",
    "n = 100\n",
    "x = np.linspace(0,eta,n)\n",
    "dx = x[1] - x[0]\n",
    "C_D = 0.1                                      # Diffusion Constant\n",
    "dt = (dx ** 2) * C_D / D\n",
    "\n",
    "tf = 10                                        # Final Time (hr)\n",
    "nt = round(tf / dt)\n",
    "\n",
    "t = np.linspace(0,tf,n + 1)                    # Vectorizing Time\n",
    "\n",
    "#%%----- Model Grid -----%%#\n",
    "data = np.array([np.ones(n), np.ones(n), np.ones(n)])\n",
    "diags = np.array([-1, 0, 1])\n",
    "dtheta = spdiags(data, diags, n + 1, n + 1).toarray()   # Model grid for changing soil moisture\n",
    "dtheta[0] = theta_r\n",
    "\n",
    "#%%-- Pre-Allocations  --%%#\n",
    "data1 = np.array([C_D * np.ones(n), (1 - 2 * C_D) * np.ones(n), C_D * np.ones(n)])\n",
    "diags1 = np.array([-1, 0, 1])\n",
    "q = spdiags(data1, diags1, n + 1, n + 1).toarray()      # Model grid for flux\n",
    "q[0,0] = q0\n",
    "q[0,1] = q0\n",
    "q[-1,-1] = 0\n",
    "q[-1,-2] = 0\n",
    "\n",
    "data2 = np.array([np.ones(n), np.ones(n), np.ones(n)])\n",
    "diags2 = np.array([-1, 0, 1])\n",
    "I = spdiags(data2, diags2, n + 1, n + 1).toarray()      # Model grid for infiltration\n",
    "I[:,0] = (S2_orp / (2 * betta * K_s)) * np.log(1 + (betta / (q0 / K_s) - 1))\n",
    "\n",
    "dh = np.zeros(n + 1)                        # Initializing hydraulic head\n",
    "dh[0] = h_e\n",
    "\n",
    "the = np.zeros(n + 1)                       # Initializing soil moisture\n",
    "the[0] = theta_r\n",
    "\n",
    "#%%---- Solve for Richards Equation ----%%#\n",
    "for i in np.arange(0,n):\n",
    "    if i == 0:                              # Solving for initial conditions\n",
    "        dh[i + 1] = dh[i] + h(theta_s)      # Solving for hydraulic head\n",
    "        the[i + 1] = theta(dh[i],t[i])      # Solving for soil moisture\n",
    "        dtheta[i,:] = K_s * (dh[i] + 1)     # Solving for changing soil moisture (Richards Equation)\n",
    "    else:                                   # Solving everywhere else\n",
    "        dh[i + 1] = dh[i] + h(the[i])\n",
    "        the[i + 1] = theta(dh[i],t[i])\n",
    "        dtheta[i + 1,:] = K_s * (dh[i] + 1)\n",
    "\n",
    "J = lambda i, k: K_s * (h(dtheta[i,k]))     # Soil moisture\n",
    "\n",
    "#%%---- Forward Euler Diffusion Eq ----%%#\n",
    "for k in np.arange(0,n):\n",
    "    for i in np.arange(0,n):\n",
    "        q[:, k + 1] = q[:,k] + C_D*(((J(2,k) - 2 * J(1,k)) / dx) - (J(1,k) * (q0 / D)))         # Solving for Flux\n",
    "        I[:, k + 1] = (S2_orp / (2 * betta * K_s)) * np.log(1 + (betta /(q[:,k] / K_s) - 1))    # Solving for Infiltration\n"
   ]
  },
  {
   "cell_type": "markdown",
   "metadata": {},
   "source": [
    "## RESULTS"
   ]
  },
  {
   "cell_type": "code",
   "execution_count": 32,
   "metadata": {},
   "outputs": [
    {
     "name": "stderr",
     "output_type": "stream",
     "text": [
      "<ipython-input-32-faadb176078f>:58: RuntimeWarning: divide by zero encountered in true_divide\n",
      "  I_l[:, k + 1] = (S2_orp / (2 * betta * K_s)) * np.log(1 + (betta /(q[:,k] / K_s) - 1))    # Solving for Infiltration\n",
      "<ipython-input-32-faadb176078f>:119: RuntimeWarning: divide by zero encountered in true_divide\n",
      "  I_2[:, k + 1] = (S2_orp / (2 * betta * K_s)) * np.log(1 + (betta /(q[:,k] / K_s) - 1))    # Solving for Infiltration\n"
     ]
    }
   ],
   "source": [
    "#%%----- Parameters -----%%#\n",
    "#___Based on soil type: Loam___#\n",
    "h_e1 = -0.5 * 1000           # Air Entry Pressure (mm)\n",
    "K_s1 = 2 * 1000 * 3600       # Hydraulic Conductivity at Saturation (mm / hr)\n",
    "lam1 = 13                    # Shape Parameter\n",
    "eta1 = 13                    # Shape Parameter\n",
    "theta_s1 = 0.5 / 1000000000  # Volumetric Water Content at Saturation (mm ** 3 / mm ** 3) ~NOTE: if things seem weird this may not need to be scaled since the units technically cancel out, but uncertain since it is not nondimensional.\n",
    "theta_r1 = 0.4 / 1000000000  # Initial Volumetric Water Content (mm ** 3 / mm ** 3)\n",
    "b1 = 5                       # Hydrologic Parameter\n",
    "phi1 = 0.47 / 1000000000     # Porosity (mm ** 3 / mm ** 3\n",
    "\n",
    "# We intentionally leave out parameters and funtions that will remain constant to shorten the code.\n",
    "C_sbc = 2 + (1 / (lam * eta - 1)) + (1 / (lam * eta - 1 + lam))     # Retention Curve\n",
    "S2_orp = C_sbc * theta_s * np.abs(h_e) * K_s    # Sorptivity\n",
    "C_betbc = 1 + (1 / (2 * lam * eta - lam - 1))   # Hydraulic Conductivity Curve\n",
    "betta = 2 * (1 - 2 * (C_betbc / C_sbc))         # Parameter\n",
    "\n",
    "#%%----- Model Grid -----%%#\n",
    "data = np.array([np.ones(n), np.ones(n), np.ones(n)])\n",
    "diags = np.array([-1, 0, 1])\n",
    "dtheta = spdiags(data, diags, n + 1, n + 1).toarray()   # Model grid for changing soil moisture\n",
    "dtheta[0] = theta_r\n",
    "\n",
    "#%%-- Pre-Allocations  --%%#\n",
    "data1 = np.array([C_D * np.ones(n), (1 - 2 * C_D) * np.ones(n), C_D * np.ones(n)])\n",
    "q = spdiags(data1, diags, n + 1, n + 1).toarray()      # Model grid for flux\n",
    "q[0,0] = q0\n",
    "q[0,1] = q0\n",
    "q[-1,-1] = 0\n",
    "q[-1,-2] = 0\n",
    "\n",
    "I_l = spdiags(data, diags, n + 1, n + 1).toarray()      # Model grid for infiltration\n",
    "I_l[:,0] = (S2_orp / (2 * betta * K_s)) * np.log(1 + (betta / (q0 / K_s) - 1))\n",
    "\n",
    "dh = np.zeros(n + 1)                        # Initializing hydraulic head\n",
    "dh[0] = h_e\n",
    "\n",
    "the = np.zeros(n + 1)                       # Initializing soil moisture\n",
    "the[0] = theta_r\n",
    "\n",
    "#%%---- Solve for Richards Equation ----%%#\n",
    "for i in np.arange(0,n):\n",
    "    if i == 0:                              # Solving for initial conditions\n",
    "        dh[i + 1] = dh[i] + h(theta_s)      # Solving for hydraulic head\n",
    "        the[i + 1] = theta(dh[i],t[i])      # Solving for soil moisture\n",
    "        dtheta[i,:] = K_s * (dh[i] + 1)     # Solving for changing soil moisture (Richards Equation)\n",
    "    else:                                   # Solving everywhere else\n",
    "        dh[i + 1] = dh[i] + h(the[i])\n",
    "        the[i + 1] = theta(dh[i],t[i])\n",
    "        dtheta[i + 1,:] = K_s * (dh[i] + 1)\n",
    "\n",
    "J = lambda i, k: K_s * (h(dtheta[i,k]))     # Soil moisture\n",
    "\n",
    "#%%---- Forward Euler Diffusion Eq ----%%#\n",
    "for k in np.arange(0,n):\n",
    "    for i in np.arange(0,n):\n",
    "        q[:, k + 1] = q[:,k] + C_D*(((J(2,k) - 2 * J(1,k)) / dx) - (J(1,k) * (q0 / D)))         # Solving for Flux\n",
    "        I_l[:, k + 1] = (S2_orp / (2 * betta * K_s)) * np.log(1 + (betta /(q[:,k] / K_s) - 1))    # Solving for Infiltration\n",
    "        \n",
    "        \n",
    "\n",
    "#%%----- Parameters -----%%#\n",
    "#___Based on soil type: Clay___#\n",
    "h_e2 = -0.4 * 1000           # Air Entry Pressure (mm)\n",
    "K_s2 = 0.2 * 1000 * 3600       # Hydraulic Conductivity at Saturation (mm / hr)\n",
    "lam2 = 21                    # Shape Parameter\n",
    "eta2 = 21                    # Shape Parameter\n",
    "theta_s2 = 0.6 / 1000000000  # Volumetric Water Content at Saturation (mm ** 3 / mm ** 3) ~NOTE: if things seem weird this may not need to be scaled since the units technically cancel out, but uncertain since it is not nondimensional.\n",
    "theta_r2 = 0.38 / 1000000000  # Initial Volumetric Water Content (mm ** 3 / mm ** 3)\n",
    "b2 = 9                       # Hydrologic Parameter\n",
    "phi2 = 0.47 / 1000000000 ##    # Porosity (mm ** 3 / mm ** 3\n",
    "\n",
    "# We intentionally leave out parameters and funtions that will remain constant to shorten the code.\n",
    "C_sbc = 2 + (1 / (lam * eta - 1)) + (1 / (lam * eta - 1 + lam))     # Retention Curve\n",
    "S2_orp = C_sbc * theta_s * np.abs(h_e) * K_s    # Sorptivity\n",
    "C_betbc = 1 + (1 / (2 * lam * eta - lam - 1))   # Hydraulic Conductivity Curve\n",
    "betta = 2 * (1 - 2 * (C_betbc / C_sbc))         # Parameter\n",
    "\n",
    "#%%----- Model Grid -----%%#\n",
    "data = np.array([np.ones(n), np.ones(n), np.ones(n)])\n",
    "diags = np.array([-1, 0, 1])\n",
    "dtheta = spdiags(data, diags, n + 1, n + 1).toarray()   # Model grid for changing soil moisture\n",
    "dtheta[0] = theta_r\n",
    "\n",
    "#%%-- Pre-Allocations  --%%#\n",
    "data2 = np.array([C_D * np.ones(n), (1 - 2 * C_D) * np.ones(n), C_D * np.ones(n)])\n",
    "q = spdiags(data2, diags, n + 1, n + 1).toarray()      # Model grid for flux\n",
    "q[0,0] = q0\n",
    "q[0,1] = q0\n",
    "q[-1,-1] = 0\n",
    "q[-1,-2] = 0\n",
    "\n",
    "I_2 = spdiags(data, diags, n + 1, n + 1).toarray()      # Model grid for infiltration\n",
    "I_2[:,0] = (S2_orp / (2 * betta * K_s)) * np.log(1 + (betta / (q0 / K_s) - 1))\n",
    "\n",
    "dh = np.zeros(n + 1)                        # Initializing hydraulic head\n",
    "dh[0] = h_e\n",
    "\n",
    "the = np.zeros(n + 1)                       # Initializing soil moisture\n",
    "the[0] = theta_r\n",
    "\n",
    "#%%---- Solve for Richards Equation ----%%#\n",
    "for i in np.arange(0,n):\n",
    "    if i == 0:                              # Solving for initial conditions\n",
    "        dh[i + 1] = dh[i] + h(theta_s)      # Solving for hydraulic head\n",
    "        the[i + 1] = theta(dh[i],t[i])      # Solving for soil moisture\n",
    "        dtheta[i,:] = K_s * (dh[i] + 1)     # Solving for changing soil moisture (Richards Equation)\n",
    "    else:                                   # Solving everywhere else\n",
    "        dh[i + 1] = dh[i] + h(the[i])\n",
    "        the[i + 1] = theta(dh[i],t[i])\n",
    "        dtheta[i + 1,:] = K_s * (dh[i] + 1)\n",
    "\n",
    "J = lambda i, k: K_s * (h(dtheta[i,k]))     # Soil moisture\n",
    "\n",
    "#%%---- Forward Euler Diffusion Eq ----%%#\n",
    "for k in np.arange(0,n):\n",
    "    for i in np.arange(0,n):\n",
    "        q[:, k + 1] = q[:,k] + C_D*(((J(2,k) - 2 * J(1,k)) / dx) - (J(1,k) * (q0 / D)))         # Solving for Flux\n",
    "        I_2[:, k + 1] = (S2_orp / (2 * betta * K_s)) * np.log(1 + (betta /(q[:,k] / K_s) - 1))    # Solving for Infiltration"
   ]
  },
  {
   "cell_type": "markdown",
   "metadata": {},
   "source": [
    "## FIGURES"
   ]
  },
  {
   "cell_type": "code",
   "execution_count": 34,
   "metadata": {},
   "outputs": [
    {
     "data": {
      "text/plain": [
       "Text(0.5, 1.0, 'Infilitration in Clay')"
      ]
     },
     "execution_count": 34,
     "metadata": {},
     "output_type": "execute_result"
    },
    {
     "data": {
      "image/png": "[encoded data removed]",
      "text/plain": [
       "<Figure size 432x288 with 1 Axes>"
      ]
     },
     "metadata": {
      "needs_background": "light"
     },
     "output_type": "display_data"
    },
    {
     "data": {
      "image/png": "[encoded data removed]",
      "text/plain": [
       "<Figure size 432x288 with 1 Axes>"
      ]
     },
     "metadata": {
      "needs_background": "light"
     },
     "output_type": "display_data"
    },
    {
     "data": {
      "image/png": "[encoded data removed]",
      "text/plain": [
       "<Figure size 432x288 with 1 Axes>"
      ]
     },
     "metadata": {
      "needs_background": "light"
     },
     "output_type": "display_data"
    }
   ],
   "source": [
    "#%%------ Plotting ------%%#\n",
    "#for j in np.arange(0,n):\n",
    "figure = plt.figure()\n",
    "ax = plt.gca()\n",
    "plt.plot(t,I[0,:],'k-')\n",
    "plt.xlabel('Time (hr)')\n",
    "ax.set_ylim(ax.get_ylim()[::-1])\n",
    "plt.ylabel('Infiltration (mm/hr)')\n",
    "plt.title('Infilitration in Sand')\n",
    "\n",
    "figure2 = plt.figure()\n",
    "ax2 = plt.gca()\n",
    "plt.plot(t,I_l[0,:],'k-')\n",
    "plt.xlabel('Time (hr)')\n",
    "ax2.set_ylim(ax2.get_ylim()[::-1])\n",
    "plt.ylabel('Infiltration (mm/hr)')\n",
    "plt.title('Infilitration in Loam')\n",
    "\n",
    "figure3 = plt.figure()\n",
    "ax3 = plt.gca()\n",
    "plt.plot(t,I_2[0,:],'k-')\n",
    "plt.xlabel('Time (hr)')\n",
    "ax3.set_ylim(ax3.get_ylim()[::-1])\n",
    "plt.ylabel('Infiltration (mm/hr)')\n",
    "plt.title('Infilitration in Clay')"
   ]
  },
  {
   "cell_type": "markdown",
   "metadata": {},
   "source": [
    "## VIDEO WALKTHROUGH\n"
   ]
  },
  {
   "cell_type": "markdown",
   "metadata": {},
   "source": [
    "## REFERENCES\n",
    "\n",
    "(2010). Competency Area 2: Soil hydrology AEM. NRCCA, Cornell, https://nrcca.cals.cornell.edu/soil/CA2/CA0212.1-3.php#:~:text=The%20volumetric%20soil%20moisture%20content,to%2055%25%20for%20clay%20soils.\n",
    "\n",
    "(2022). Soil water storage properties. Minnesota Stormwater Manual, https://stormwater.pca.state.mn.us/index.php/Soil_water_storage_properties\n",
    "\n",
    "Bras, R.L. (1989). Hydrology - An Introduction to Hydrological Science, Addison-Wesley.\n",
    "\n",
    "N. Varado, I. Braud, P.J. Ross, R. Haverkamp. (2006). Assessment of an efficient numerical solution of the 1D Richards' equation on bare soil, Journal of Hydrology, 323 (1–4), 244-257, https://doi.org/10.1016/j.jhydrol.2005.07.052."
   ]
  },
  {
   "cell_type": "code",
   "execution_count": null,
   "metadata": {},
   "outputs": [],
   "source": []
  }
 ],
 "metadata": {
  "kernelspec": {
   "display_name": "Python 3",
   "language": "python",
   "name": "python3"
  },
  "language_info": {
   "codemirror_mode": {
    "name": "ipython",
    "version": 3
   },
   "file_extension": ".py",
   "mimetype": "text/x-python",
   "name": "python",
   "nbconvert_exporter": "python",
   "pygments_lexer": "ipython3",
   "version": "3.9.11"
  },
  "vscode": {
   "interpreter": {
    "hash": "916dbcbb3f70747c44a77c7bcd40155683ae19c65e1c03b4aa3499c5328201f1"
   }
  }
 },
 "nbformat": 4,
 "nbformat_minor": 2
}
